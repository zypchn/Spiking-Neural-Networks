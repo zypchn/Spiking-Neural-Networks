{
  "nbformat": 4,
  "nbformat_minor": 0,
  "metadata": {
    "colab": {
      "provenance": [],
      "authorship_tag": "ABX9TyNAfcIS8lrSVKGjf9d2bPz3",
      "include_colab_link": true
    },
    "kernelspec": {
      "name": "python3",
      "display_name": "Python 3"
    },
    "language_info": {
      "name": "python"
    }
  },
  "cells": [
    {
      "cell_type": "markdown",
      "metadata": {
        "id": "view-in-github",
        "colab_type": "text"
      },
      "source": [
        "<a href=\"https://colab.research.google.com/github/zypchn/Spiking-Neural-Networks/blob/main/SNN_scratch.ipynb\" target=\"_parent\"><img src=\"https://colab.research.google.com/assets/colab-badge.svg\" alt=\"Open In Colab\"/></a>"
      ]
    },
    {
      "cell_type": "code",
      "source": [
        "! pip install snntorch -q"
      ],
      "metadata": {
        "colab": {
          "base_uri": "https://localhost:8080/"
        },
        "id": "eNU4MlHN--sU",
        "outputId": "a7279881-a0d6-45d9-b545-e40710f10462"
      },
      "execution_count": null,
      "outputs": [
        {
          "output_type": "stream",
          "name": "stdout",
          "text": [
            "\u001b[?25l   \u001b[90m━━━━━━━━━━━━━━━━━━━━━━━━━━━━━━━━━━━━━━━━\u001b[0m \u001b[32m0.0/125.6 kB\u001b[0m \u001b[31m?\u001b[0m eta \u001b[36m-:--:--\u001b[0m\r\u001b[2K   \u001b[90m━━━━━━━━━━━━━━━━━━━━━━━━━━━━━━━━━━━━━━━━\u001b[0m \u001b[32m125.6/125.6 kB\u001b[0m \u001b[31m9.6 MB/s\u001b[0m eta \u001b[36m0:00:00\u001b[0m\n",
            "\u001b[?25h"
          ]
        }
      ]
    },
    {
      "cell_type": "code",
      "source": [
        "import torch\n",
        "from torchvision import datasets, transforms\n",
        "from torch.utils.data import DataLoader\n",
        "from snntorch import spikegen\n",
        "import numpy as np\n",
        "import itertools\n",
        "import matplotlib.pyplot as plt\n",
        "import snntorch.spikeplot as splt\n",
        "from IPython.display import HTML"
      ],
      "metadata": {
        "id": "NZEPzrsALjSf"
      },
      "execution_count": null,
      "outputs": []
    },
    {
      "cell_type": "code",
      "source": [
        "transform = transforms.Compose([\n",
        "    transforms.Grayscale(),\n",
        "    transforms.ToTensor(),\n",
        "    transforms.Normalize((0,), (1,))\n",
        "])"
      ],
      "metadata": {
        "collapsed": true,
        "id": "93Z8CbXcQ0ei"
      },
      "execution_count": null,
      "outputs": []
    },
    {
      "cell_type": "code",
      "source": [
        "data_path = \"/content/data/mnist\"\n",
        "batch_size = 128\n",
        "dtype = torch.float\n",
        "\n",
        "mnist_train = datasets.MNIST(data_path, train=True, download=True, transform=transform)\n",
        "mnist_test = datasets.MNIST(data_path, train=False, download=True, transform=transform)\n",
        "\n",
        "train_loader = DataLoader(mnist_train, batch_size=batch_size, shuffle=True)\n",
        "test_loader = DataLoader(mnist_test, batch_size=batch_size, shuffle=False)"
      ],
      "metadata": {
        "collapsed": true,
        "id": "mRGl2WY7PInq"
      },
      "execution_count": null,
      "outputs": []
    },
    {
      "cell_type": "code",
      "source": [
        "device = torch.device(\"cuda\") if torch.cuda.is_available() else torch.device(\"cpu\")\n",
        "device"
      ],
      "metadata": {
        "colab": {
          "base_uri": "https://localhost:8080/"
        },
        "id": "E--rFyRN_uab",
        "outputId": "81cccbe6-ff36-435d-912c-62b8a7690de5"
      },
      "execution_count": null,
      "outputs": [
        {
          "output_type": "execute_result",
          "data": {
            "text/plain": [
              "device(type='cpu')"
            ]
          },
          "metadata": {},
          "execution_count": 53
        }
      ]
    },
    {
      "cell_type": "code",
      "source": [
        "# Rate Coding (batch)\n",
        "\n",
        "num_steps = 5\n",
        "data = iter(train_loader)\n",
        "data_it, target_it = next(data)\n",
        "\n",
        "# Spiking Data\n",
        "spike_data = spikegen.rate(data_it, num_steps=num_steps)\n",
        "spike_data = spike_data.permute(1, 2, 3, 4, 0)\n",
        "spike_data.shape"
      ],
      "metadata": {
        "id": "T-Dgidul-gs6",
        "colab": {
          "base_uri": "https://localhost:8080/"
        },
        "outputId": "9f87bc4c-8c87-42a6-f16e-a0224c1e940c"
      },
      "execution_count": null,
      "outputs": [
        {
          "output_type": "execute_result",
          "data": {
            "text/plain": [
              "torch.Size([128, 1, 28, 28, 5])"
            ]
          },
          "metadata": {},
          "execution_count": 54
        }
      ]
    },
    {
      "cell_type": "code",
      "source": [
        "class LIFNeuron:\n",
        "\n",
        "  def __init__(self, threshold=1.0, decay=0.1):\n",
        "    self.membrane_potential = None\n",
        "    self.threshold = threshold\n",
        "    self.decay = decay\n",
        "\n",
        "  def forward(self, input_spikes):\n",
        "    if (self.membrane_potential is None):\n",
        "      self.membrane_potential = torch.zeros_like(input_spikes[:, :, :, :, 0])\n",
        "\n",
        "    spike_outs = []\n",
        "    for t in range(input_spikes.shape[-1]):\n",
        "      self.membrane_potential = (1 - self.decay) * self.membrane_potential + input_spikes[:, :, :, :, t]\n",
        "\n",
        "      spikes = (self.membrane_potential >= self.threshold).float()\n",
        "      self.membrane_potential[spikes == 1] = 0.0\n",
        "\n",
        "      spike_outs.append(spikes)\n",
        "\n",
        "    return torch.stack(spike_outs, dim=-1)"
      ],
      "metadata": {
        "id": "5XuJPEiP4eh0"
      },
      "execution_count": null,
      "outputs": []
    },
    {
      "cell_type": "code",
      "source": [
        "neuron = LIFNeuron()"
      ],
      "metadata": {
        "id": "L6AnCQx1BjYp"
      },
      "execution_count": null,
      "outputs": []
    },
    {
      "cell_type": "code",
      "source": [
        "out = neuron.forward(spike_data)"
      ],
      "metadata": {
        "id": "bS4mCsGNlgDw"
      },
      "execution_count": null,
      "outputs": []
    },
    {
      "cell_type": "code",
      "source": [
        "spike_data.shape, out.shape"
      ],
      "metadata": {
        "colab": {
          "base_uri": "https://localhost:8080/"
        },
        "id": "iEvUL1aMsnHh",
        "outputId": "92a11458-7b0f-435d-c6a7-b4676a6b01ae"
      },
      "execution_count": null,
      "outputs": [
        {
          "output_type": "execute_result",
          "data": {
            "text/plain": [
              "(torch.Size([128, 1, 28, 28, 5]), torch.Size([128, 1, 28, 28, 5]))"
            ]
          },
          "metadata": {},
          "execution_count": 56
        }
      ]
    },
    {
      "cell_type": "code",
      "source": [
        "spike_data.sum(), out.sum()"
      ],
      "metadata": {
        "colab": {
          "base_uri": "https://localhost:8080/"
        },
        "id": "vRCzBEUbsqh_",
        "outputId": "ba0fc2ac-7e40-4a06-e66f-9fc5df0da512"
      },
      "execution_count": null,
      "outputs": [
        {
          "output_type": "execute_result",
          "data": {
            "text/plain": [
              "(tensor(51570.), tensor(51570.))"
            ]
          },
          "metadata": {},
          "execution_count": 57
        }
      ]
    },
    {
      "cell_type": "code",
      "source": [
        "sample_pixel = (0, 0, 10, 10)\n",
        "\n",
        "print(\"Input spike train for one pixel:\")\n",
        "print(spike_data[sample_pixel].cpu().numpy())\n",
        "\n",
        "print(\"Output spike train for the same pixel:\")\n",
        "print(out[sample_pixel].cpu().numpy())"
      ],
      "metadata": {
        "colab": {
          "base_uri": "https://localhost:8080/"
        },
        "id": "9LVbYLpkswH3",
        "outputId": "558b3b32-1722-4b9e-8315-56d921ebb86c"
      },
      "execution_count": null,
      "outputs": [
        {
          "output_type": "stream",
          "name": "stdout",
          "text": [
            "Input spike train for one pixel:\n",
            "[0. 0. 0. 0. 0.]\n",
            "Output spike train for the same pixel:\n",
            "[0. 0. 0. 0. 0.]\n"
          ]
        }
      ]
    },
    {
      "cell_type": "code",
      "source": [],
      "metadata": {
        "id": "lCEdnBdfs_Ip"
      },
      "execution_count": null,
      "outputs": []
    }
  ]
}